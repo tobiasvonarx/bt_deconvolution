{
 "cells": [
  {
   "cell_type": "code",
   "execution_count": 1,
   "id": "b364b3c2",
   "metadata": {},
   "outputs": [
    {
     "name": "stderr",
     "output_type": "stream",
     "text": [
      "2023-06-17 18:22:04.389149: I tensorflow/core/platform/cpu_feature_guard.cc:193] This TensorFlow binary is optimized with oneAPI Deep Neural Network Library (oneDNN) to use the following CPU instructions in performance-critical operations:  AVX2 FMA\n",
      "To enable them in other operations, rebuild TensorFlow with the appropriate compiler flags.\n"
     ]
    }
   ],
   "source": [
    "import main\n",
    "import matplotlib.pyplot as plt\n",
    "%matplotlib inline\n",
    "from tqdm import tqdm\n",
    "import plotly.express as px\n",
    "from constants import cell_types\n",
    "import pandas as pd"
   ]
  },
  {
   "cell_type": "code",
   "execution_count": 18,
   "id": "6c4e14ab",
   "metadata": {},
   "outputs": [
    {
     "name": "stdout",
     "output_type": "stream",
     "text": [
      "10/10 [==============================] - 0s 1ms/step\n",
      "10/10 [==============================] - 0s 1ms/step\n",
      "10/10 [==============================] - 0s 1ms/step\n",
      "4/4 [==============================] - 0s 1ms/step\n",
      "4/4 [==============================] - 0s 2ms/step\n",
      "4/4 [==============================] - 0s 1ms/step\n",
      "10/10 [==============================] - 0s 1ms/step\n",
      "4/4 [==============================] - 0s 2ms/step\n",
      "cell proportion RMSE loss on train set 0.011053958731834668\n",
      "cell proportion RMSE loss on test set 0.01891661038594456\n",
      "4/4 [==============================] - 0s 1ms/step\n"
     ]
    }
   ],
   "source": [
    "test_prop_y, prop_y, _ = main.main(50, True)"
   ]
  },
  {
   "cell_type": "code",
   "execution_count": 9,
   "id": "09f86aac",
   "metadata": {},
   "outputs": [],
   "source": [
    "test_prop_y = pd.DataFrame(test_prop_y, columns=cell_types)\n",
    "prop_y = pd.DataFrame(prop_y, columns=cell_types)\n"
   ]
  },
  {
   "cell_type": "code",
   "execution_count": 10,
   "id": "389081c5",
   "metadata": {},
   "outputs": [
    {
     "data": {
      "application/vnd.plotly.v1+json": {
       "config": {
        "plotlyServerURL": "https://plot.ly"
       },
       "data": [
        {
         "a": [
          0.3832717,
          0.26088527,
          0.2369855,
          0.18660085,
          0.38440502,
          0.2857067,
          0.2802666,
          0.37417382,
          0.34978685,
          0.30615246,
          0.3332314,
          0.26275104,
          0.21596779,
          0.2633004,
          0.22574888,
          0.5846826,
          0.36831364,
          0.36106333,
          0.38157713,
          0.35356498,
          0.2568406,
          0.26213163,
          0.17419925,
          0.36832172,
          0.30446437,
          0.2571473,
          0.28411064,
          0.22594745,
          0.27665156,
          0.3204007,
          0.32467067,
          0.34172794,
          0.24176775,
          0.30424204,
          0.3365985,
          0.24328487,
          0.26335862,
          0.33501387,
          0.48151743,
          0.3112587,
          0.45801038,
          0.26623636,
          0.3316196,
          0.26828206,
          0.23601724,
          0.2773628,
          0.27222994,
          0.29481047,
          0.30370754,
          0.407663,
          0.38444152,
          0.28997648,
          0.2797465,
          0.20125043,
          0.39228684,
          0.27060053,
          0.285753,
          0.48238564,
          0.25550023,
          0.31854126,
          0.27052096,
          0.23372753,
          0.31697962,
          0.1773442,
          0.384951,
          0.24613929,
          0.20280185,
          0.14234549,
          0.37423074,
          0.18690735,
          0.35988766,
          0.2863611,
          0.31962505,
          0.35175467,
          0.4415425,
          0.44914478,
          0.3261078,
          0.503798,
          0.32508093,
          0.27612698,
          0.46876836,
          0.4113407,
          0.38041174,
          0.47571513,
          0.29134262,
          0.25946012,
          0.12150401,
          0.34023285,
          0.28103462,
          0.16190799,
          0.32918447,
          0.23711887,
          0.23883459,
          0.24927378,
          0.27349836,
          0.28970677,
          0.11538149,
          0.17994162,
          0.29420346,
          0.38265353
         ],
         "b": [
          0.31694514,
          0.5155393,
          0.41049412,
          0.37935302,
          0.39247525,
          0.44401094,
          0.30061397,
          0.36683452,
          0.39321306,
          0.4865938,
          0.33693767,
          0.42706966,
          0.44015512,
          0.26783636,
          0.47213697,
          0.17408526,
          0.38590372,
          0.3668831,
          0.2934872,
          0.3536077,
          0.27769375,
          0.539852,
          0.3180281,
          0.4108104,
          0.42763025,
          0.47107956,
          0.38331345,
          0.37037587,
          0.3753217,
          0.44378924,
          0.3606128,
          0.32368973,
          0.44550696,
          0.31752294,
          0.32202753,
          0.43162963,
          0.4054088,
          0.32538593,
          0.34091413,
          0.42929175,
          0.3035832,
          0.35782114,
          0.33452937,
          0.31352127,
          0.50104177,
          0.49356425,
          0.33178473,
          0.2755624,
          0.34316677,
          0.34659302,
          0.32213974,
          0.36285245,
          0.3838256,
          0.375659,
          0.37900284,
          0.33086544,
          0.29427582,
          0.20959061,
          0.46088958,
          0.2695249,
          0.35207552,
          0.43333635,
          0.42491284,
          0.26312608,
          0.26027778,
          0.4340562,
          0.40034217,
          0.56814665,
          0.27606225,
          0.3889267,
          0.34991577,
          0.4691679,
          0.31648827,
          0.34367108,
          0.27032447,
          0.35329193,
          0.41273704,
          0.24626854,
          0.34992766,
          0.43189222,
          0.25779507,
          0.2438131,
          0.38295972,
          0.36005723,
          0.38353223,
          0.5045873,
          0.4682505,
          0.217073,
          0.37338573,
          0.36343145,
          0.29987767,
          0.20481825,
          0.34847122,
          0.3953965,
          0.33112603,
          0.545229,
          0.4578429,
          0.4736153,
          0.35813275,
          0.3949463
         ],
         "c": [
          0.3000396,
          0.2233126,
          0.3523853,
          0.43256694,
          0.22420894,
          0.26979208,
          0.41888326,
          0.25979826,
          0.2564439,
          0.20716436,
          0.32882875,
          0.30971012,
          0.34290814,
          0.46791542,
          0.30251718,
          0.24362583,
          0.24672516,
          0.27192444,
          0.3254513,
          0.29342586,
          0.46479452,
          0.1983995,
          0.5069394,
          0.22219788,
          0.268012,
          0.2723188,
          0.33229414,
          0.40265366,
          0.3474372,
          0.23595226,
          0.31503025,
          0.3347057,
          0.31274176,
          0.3778907,
          0.34230897,
          0.3252384,
          0.33098233,
          0.340116,
          0.18060517,
          0.25869718,
          0.23965868,
          0.37560657,
          0.3338542,
          0.41763058,
          0.26199505,
          0.22763106,
          0.3957308,
          0.42885685,
          0.35175323,
          0.2471166,
          0.29456505,
          0.34702778,
          0.33597788,
          0.4222684,
          0.22960432,
          0.39740777,
          0.41907698,
          0.30946332,
          0.28267998,
          0.41134483,
          0.37707764,
          0.33236855,
          0.2583567,
          0.55769455,
          0.3552608,
          0.32000706,
          0.3949638,
          0.2878956,
          0.34969902,
          0.42390585,
          0.2905252,
          0.2443601,
          0.36383277,
          0.3050958,
          0.28934637,
          0.1989741,
          0.26049212,
          0.25169066,
          0.3245935,
          0.290963,
          0.27534956,
          0.34548464,
          0.23727532,
          0.166243,
          0.3251707,
          0.23579073,
          0.40857458,
          0.44211262,
          0.34497488,
          0.47299904,
          0.3707853,
          0.5564058,
          0.4117684,
          0.35499975,
          0.39439937,
          0.16526254,
          0.42537975,
          0.3448614,
          0.34730697,
          0.2230161
         ],
         "hovertemplate": "bcell=%{a}<br>epi=%{b}<br>fib=%{c}<extra></extra>",
         "legendgroup": "",
         "marker": {
          "color": "#636efa",
          "symbol": "circle"
         },
         "mode": "markers",
         "name": "",
         "showlegend": false,
         "subplot": "ternary",
         "type": "scatterternary"
        }
       ],
       "layout": {
        "legend": {
         "tracegroupgap": 0
        },
        "margin": {
         "t": 60
        },
        "template": {
         "data": {
          "bar": [
           {
            "error_x": {
             "color": "#2a3f5f"
            },
            "error_y": {
             "color": "#2a3f5f"
            },
            "marker": {
             "line": {
              "color": "#E5ECF6",
              "width": 0.5
             },
             "pattern": {
              "fillmode": "overlay",
              "size": 10,
              "solidity": 0.2
             }
            },
            "type": "bar"
           }
          ],
          "barpolar": [
           {
            "marker": {
             "line": {
              "color": "#E5ECF6",
              "width": 0.5
             },
             "pattern": {
              "fillmode": "overlay",
              "size": 10,
              "solidity": 0.2
             }
            },
            "type": "barpolar"
           }
          ],
          "carpet": [
           {
            "aaxis": {
             "endlinecolor": "#2a3f5f",
             "gridcolor": "white",
             "linecolor": "white",
             "minorgridcolor": "white",
             "startlinecolor": "#2a3f5f"
            },
            "baxis": {
             "endlinecolor": "#2a3f5f",
             "gridcolor": "white",
             "linecolor": "white",
             "minorgridcolor": "white",
             "startlinecolor": "#2a3f5f"
            },
            "type": "carpet"
           }
          ],
          "choropleth": [
           {
            "colorbar": {
             "outlinewidth": 0,
             "ticks": ""
            },
            "type": "choropleth"
           }
          ],
          "contour": [
           {
            "colorbar": {
             "outlinewidth": 0,
             "ticks": ""
            },
            "colorscale": [
             [
              0,
              "#0d0887"
             ],
             [
              0.1111111111111111,
              "#46039f"
             ],
             [
              0.2222222222222222,
              "#7201a8"
             ],
             [
              0.3333333333333333,
              "#9c179e"
             ],
             [
              0.4444444444444444,
              "#bd3786"
             ],
             [
              0.5555555555555556,
              "#d8576b"
             ],
             [
              0.6666666666666666,
              "#ed7953"
             ],
             [
              0.7777777777777778,
              "#fb9f3a"
             ],
             [
              0.8888888888888888,
              "#fdca26"
             ],
             [
              1,
              "#f0f921"
             ]
            ],
            "type": "contour"
           }
          ],
          "contourcarpet": [
           {
            "colorbar": {
             "outlinewidth": 0,
             "ticks": ""
            },
            "type": "contourcarpet"
           }
          ],
          "heatmap": [
           {
            "colorbar": {
             "outlinewidth": 0,
             "ticks": ""
            },
            "colorscale": [
             [
              0,
              "#0d0887"
             ],
             [
              0.1111111111111111,
              "#46039f"
             ],
             [
              0.2222222222222222,
              "#7201a8"
             ],
             [
              0.3333333333333333,
              "#9c179e"
             ],
             [
              0.4444444444444444,
              "#bd3786"
             ],
             [
              0.5555555555555556,
              "#d8576b"
             ],
             [
              0.6666666666666666,
              "#ed7953"
             ],
             [
              0.7777777777777778,
              "#fb9f3a"
             ],
             [
              0.8888888888888888,
              "#fdca26"
             ],
             [
              1,
              "#f0f921"
             ]
            ],
            "type": "heatmap"
           }
          ],
          "heatmapgl": [
           {
            "colorbar": {
             "outlinewidth": 0,
             "ticks": ""
            },
            "colorscale": [
             [
              0,
              "#0d0887"
             ],
             [
              0.1111111111111111,
              "#46039f"
             ],
             [
              0.2222222222222222,
              "#7201a8"
             ],
             [
              0.3333333333333333,
              "#9c179e"
             ],
             [
              0.4444444444444444,
              "#bd3786"
             ],
             [
              0.5555555555555556,
              "#d8576b"
             ],
             [
              0.6666666666666666,
              "#ed7953"
             ],
             [
              0.7777777777777778,
              "#fb9f3a"
             ],
             [
              0.8888888888888888,
              "#fdca26"
             ],
             [
              1,
              "#f0f921"
             ]
            ],
            "type": "heatmapgl"
           }
          ],
          "histogram": [
           {
            "marker": {
             "pattern": {
              "fillmode": "overlay",
              "size": 10,
              "solidity": 0.2
             }
            },
            "type": "histogram"
           }
          ],
          "histogram2d": [
           {
            "colorbar": {
             "outlinewidth": 0,
             "ticks": ""
            },
            "colorscale": [
             [
              0,
              "#0d0887"
             ],
             [
              0.1111111111111111,
              "#46039f"
             ],
             [
              0.2222222222222222,
              "#7201a8"
             ],
             [
              0.3333333333333333,
              "#9c179e"
             ],
             [
              0.4444444444444444,
              "#bd3786"
             ],
             [
              0.5555555555555556,
              "#d8576b"
             ],
             [
              0.6666666666666666,
              "#ed7953"
             ],
             [
              0.7777777777777778,
              "#fb9f3a"
             ],
             [
              0.8888888888888888,
              "#fdca26"
             ],
             [
              1,
              "#f0f921"
             ]
            ],
            "type": "histogram2d"
           }
          ],
          "histogram2dcontour": [
           {
            "colorbar": {
             "outlinewidth": 0,
             "ticks": ""
            },
            "colorscale": [
             [
              0,
              "#0d0887"
             ],
             [
              0.1111111111111111,
              "#46039f"
             ],
             [
              0.2222222222222222,
              "#7201a8"
             ],
             [
              0.3333333333333333,
              "#9c179e"
             ],
             [
              0.4444444444444444,
              "#bd3786"
             ],
             [
              0.5555555555555556,
              "#d8576b"
             ],
             [
              0.6666666666666666,
              "#ed7953"
             ],
             [
              0.7777777777777778,
              "#fb9f3a"
             ],
             [
              0.8888888888888888,
              "#fdca26"
             ],
             [
              1,
              "#f0f921"
             ]
            ],
            "type": "histogram2dcontour"
           }
          ],
          "mesh3d": [
           {
            "colorbar": {
             "outlinewidth": 0,
             "ticks": ""
            },
            "type": "mesh3d"
           }
          ],
          "parcoords": [
           {
            "line": {
             "colorbar": {
              "outlinewidth": 0,
              "ticks": ""
             }
            },
            "type": "parcoords"
           }
          ],
          "pie": [
           {
            "automargin": true,
            "type": "pie"
           }
          ],
          "scatter": [
           {
            "fillpattern": {
             "fillmode": "overlay",
             "size": 10,
             "solidity": 0.2
            },
            "type": "scatter"
           }
          ],
          "scatter3d": [
           {
            "line": {
             "colorbar": {
              "outlinewidth": 0,
              "ticks": ""
             }
            },
            "marker": {
             "colorbar": {
              "outlinewidth": 0,
              "ticks": ""
             }
            },
            "type": "scatter3d"
           }
          ],
          "scattercarpet": [
           {
            "marker": {
             "colorbar": {
              "outlinewidth": 0,
              "ticks": ""
             }
            },
            "type": "scattercarpet"
           }
          ],
          "scattergeo": [
           {
            "marker": {
             "colorbar": {
              "outlinewidth": 0,
              "ticks": ""
             }
            },
            "type": "scattergeo"
           }
          ],
          "scattergl": [
           {
            "marker": {
             "colorbar": {
              "outlinewidth": 0,
              "ticks": ""
             }
            },
            "type": "scattergl"
           }
          ],
          "scattermapbox": [
           {
            "marker": {
             "colorbar": {
              "outlinewidth": 0,
              "ticks": ""
             }
            },
            "type": "scattermapbox"
           }
          ],
          "scatterpolar": [
           {
            "marker": {
             "colorbar": {
              "outlinewidth": 0,
              "ticks": ""
             }
            },
            "type": "scatterpolar"
           }
          ],
          "scatterpolargl": [
           {
            "marker": {
             "colorbar": {
              "outlinewidth": 0,
              "ticks": ""
             }
            },
            "type": "scatterpolargl"
           }
          ],
          "scatterternary": [
           {
            "marker": {
             "colorbar": {
              "outlinewidth": 0,
              "ticks": ""
             }
            },
            "type": "scatterternary"
           }
          ],
          "surface": [
           {
            "colorbar": {
             "outlinewidth": 0,
             "ticks": ""
            },
            "colorscale": [
             [
              0,
              "#0d0887"
             ],
             [
              0.1111111111111111,
              "#46039f"
             ],
             [
              0.2222222222222222,
              "#7201a8"
             ],
             [
              0.3333333333333333,
              "#9c179e"
             ],
             [
              0.4444444444444444,
              "#bd3786"
             ],
             [
              0.5555555555555556,
              "#d8576b"
             ],
             [
              0.6666666666666666,
              "#ed7953"
             ],
             [
              0.7777777777777778,
              "#fb9f3a"
             ],
             [
              0.8888888888888888,
              "#fdca26"
             ],
             [
              1,
              "#f0f921"
             ]
            ],
            "type": "surface"
           }
          ],
          "table": [
           {
            "cells": {
             "fill": {
              "color": "#EBF0F8"
             },
             "line": {
              "color": "white"
             }
            },
            "header": {
             "fill": {
              "color": "#C8D4E3"
             },
             "line": {
              "color": "white"
             }
            },
            "type": "table"
           }
          ]
         },
         "layout": {
          "annotationdefaults": {
           "arrowcolor": "#2a3f5f",
           "arrowhead": 0,
           "arrowwidth": 1
          },
          "autotypenumbers": "strict",
          "coloraxis": {
           "colorbar": {
            "outlinewidth": 0,
            "ticks": ""
           }
          },
          "colorscale": {
           "diverging": [
            [
             0,
             "#8e0152"
            ],
            [
             0.1,
             "#c51b7d"
            ],
            [
             0.2,
             "#de77ae"
            ],
            [
             0.3,
             "#f1b6da"
            ],
            [
             0.4,
             "#fde0ef"
            ],
            [
             0.5,
             "#f7f7f7"
            ],
            [
             0.6,
             "#e6f5d0"
            ],
            [
             0.7,
             "#b8e186"
            ],
            [
             0.8,
             "#7fbc41"
            ],
            [
             0.9,
             "#4d9221"
            ],
            [
             1,
             "#276419"
            ]
           ],
           "sequential": [
            [
             0,
             "#0d0887"
            ],
            [
             0.1111111111111111,
             "#46039f"
            ],
            [
             0.2222222222222222,
             "#7201a8"
            ],
            [
             0.3333333333333333,
             "#9c179e"
            ],
            [
             0.4444444444444444,
             "#bd3786"
            ],
            [
             0.5555555555555556,
             "#d8576b"
            ],
            [
             0.6666666666666666,
             "#ed7953"
            ],
            [
             0.7777777777777778,
             "#fb9f3a"
            ],
            [
             0.8888888888888888,
             "#fdca26"
            ],
            [
             1,
             "#f0f921"
            ]
           ],
           "sequentialminus": [
            [
             0,
             "#0d0887"
            ],
            [
             0.1111111111111111,
             "#46039f"
            ],
            [
             0.2222222222222222,
             "#7201a8"
            ],
            [
             0.3333333333333333,
             "#9c179e"
            ],
            [
             0.4444444444444444,
             "#bd3786"
            ],
            [
             0.5555555555555556,
             "#d8576b"
            ],
            [
             0.6666666666666666,
             "#ed7953"
            ],
            [
             0.7777777777777778,
             "#fb9f3a"
            ],
            [
             0.8888888888888888,
             "#fdca26"
            ],
            [
             1,
             "#f0f921"
            ]
           ]
          },
          "colorway": [
           "#636efa",
           "#EF553B",
           "#00cc96",
           "#ab63fa",
           "#FFA15A",
           "#19d3f3",
           "#FF6692",
           "#B6E880",
           "#FF97FF",
           "#FECB52"
          ],
          "font": {
           "color": "#2a3f5f"
          },
          "geo": {
           "bgcolor": "white",
           "lakecolor": "white",
           "landcolor": "#E5ECF6",
           "showlakes": true,
           "showland": true,
           "subunitcolor": "white"
          },
          "hoverlabel": {
           "align": "left"
          },
          "hovermode": "closest",
          "mapbox": {
           "style": "light"
          },
          "paper_bgcolor": "white",
          "plot_bgcolor": "#E5ECF6",
          "polar": {
           "angularaxis": {
            "gridcolor": "white",
            "linecolor": "white",
            "ticks": ""
           },
           "bgcolor": "#E5ECF6",
           "radialaxis": {
            "gridcolor": "white",
            "linecolor": "white",
            "ticks": ""
           }
          },
          "scene": {
           "xaxis": {
            "backgroundcolor": "#E5ECF6",
            "gridcolor": "white",
            "gridwidth": 2,
            "linecolor": "white",
            "showbackground": true,
            "ticks": "",
            "zerolinecolor": "white"
           },
           "yaxis": {
            "backgroundcolor": "#E5ECF6",
            "gridcolor": "white",
            "gridwidth": 2,
            "linecolor": "white",
            "showbackground": true,
            "ticks": "",
            "zerolinecolor": "white"
           },
           "zaxis": {
            "backgroundcolor": "#E5ECF6",
            "gridcolor": "white",
            "gridwidth": 2,
            "linecolor": "white",
            "showbackground": true,
            "ticks": "",
            "zerolinecolor": "white"
           }
          },
          "shapedefaults": {
           "line": {
            "color": "#2a3f5f"
           }
          },
          "ternary": {
           "aaxis": {
            "gridcolor": "white",
            "linecolor": "white",
            "ticks": ""
           },
           "baxis": {
            "gridcolor": "white",
            "linecolor": "white",
            "ticks": ""
           },
           "bgcolor": "#E5ECF6",
           "caxis": {
            "gridcolor": "white",
            "linecolor": "white",
            "ticks": ""
           }
          },
          "title": {
           "x": 0.05
          },
          "xaxis": {
           "automargin": true,
           "gridcolor": "white",
           "linecolor": "white",
           "ticks": "",
           "title": {
            "standoff": 15
           },
           "zerolinecolor": "white",
           "zerolinewidth": 2
          },
          "yaxis": {
           "automargin": true,
           "gridcolor": "white",
           "linecolor": "white",
           "ticks": "",
           "title": {
            "standoff": 15
           },
           "zerolinecolor": "white",
           "zerolinewidth": 2
          }
         }
        },
        "ternary": {
         "aaxis": {
          "title": {
           "text": "bcell"
          }
         },
         "baxis": {
          "title": {
           "text": "epi"
          }
         },
         "caxis": {
          "title": {
           "text": "fib"
          }
         },
         "domain": {
          "x": [
           0,
           1
          ],
          "y": [
           0,
           1
          ]
         }
        }
       }
      },
      "text/html": [
       "<div>                            <div id=\"fd1f5f32-d579-4e83-9ea6-3e4ab27d1af5\" class=\"plotly-graph-div\" style=\"height:525px; width:100%;\"></div>            <script type=\"text/javascript\">                require([\"plotly\"], function(Plotly) {                    window.PLOTLYENV=window.PLOTLYENV || {};                                    if (document.getElementById(\"fd1f5f32-d579-4e83-9ea6-3e4ab27d1af5\")) {                    Plotly.newPlot(                        \"fd1f5f32-d579-4e83-9ea6-3e4ab27d1af5\",                        [{\"a\":[0.3832717,0.26088527,0.2369855,0.18660085,0.38440502,0.2857067,0.2802666,0.37417382,0.34978685,0.30615246,0.3332314,0.26275104,0.21596779,0.2633004,0.22574888,0.5846826,0.36831364,0.36106333,0.38157713,0.35356498,0.2568406,0.26213163,0.17419925,0.36832172,0.30446437,0.2571473,0.28411064,0.22594745,0.27665156,0.3204007,0.32467067,0.34172794,0.24176775,0.30424204,0.3365985,0.24328487,0.26335862,0.33501387,0.48151743,0.3112587,0.45801038,0.26623636,0.3316196,0.26828206,0.23601724,0.2773628,0.27222994,0.29481047,0.30370754,0.407663,0.38444152,0.28997648,0.2797465,0.20125043,0.39228684,0.27060053,0.285753,0.48238564,0.25550023,0.31854126,0.27052096,0.23372753,0.31697962,0.1773442,0.384951,0.24613929,0.20280185,0.14234549,0.37423074,0.18690735,0.35988766,0.2863611,0.31962505,0.35175467,0.4415425,0.44914478,0.3261078,0.503798,0.32508093,0.27612698,0.46876836,0.4113407,0.38041174,0.47571513,0.29134262,0.25946012,0.12150401,0.34023285,0.28103462,0.16190799,0.32918447,0.23711887,0.23883459,0.24927378,0.27349836,0.28970677,0.11538149,0.17994162,0.29420346,0.38265353],\"b\":[0.31694514,0.5155393,0.41049412,0.37935302,0.39247525,0.44401094,0.30061397,0.36683452,0.39321306,0.4865938,0.33693767,0.42706966,0.44015512,0.26783636,0.47213697,0.17408526,0.38590372,0.3668831,0.2934872,0.3536077,0.27769375,0.539852,0.3180281,0.4108104,0.42763025,0.47107956,0.38331345,0.37037587,0.3753217,0.44378924,0.3606128,0.32368973,0.44550696,0.31752294,0.32202753,0.43162963,0.4054088,0.32538593,0.34091413,0.42929175,0.3035832,0.35782114,0.33452937,0.31352127,0.50104177,0.49356425,0.33178473,0.2755624,0.34316677,0.34659302,0.32213974,0.36285245,0.3838256,0.375659,0.37900284,0.33086544,0.29427582,0.20959061,0.46088958,0.2695249,0.35207552,0.43333635,0.42491284,0.26312608,0.26027778,0.4340562,0.40034217,0.56814665,0.27606225,0.3889267,0.34991577,0.4691679,0.31648827,0.34367108,0.27032447,0.35329193,0.41273704,0.24626854,0.34992766,0.43189222,0.25779507,0.2438131,0.38295972,0.36005723,0.38353223,0.5045873,0.4682505,0.217073,0.37338573,0.36343145,0.29987767,0.20481825,0.34847122,0.3953965,0.33112603,0.545229,0.4578429,0.4736153,0.35813275,0.3949463],\"c\":[0.3000396,0.2233126,0.3523853,0.43256694,0.22420894,0.26979208,0.41888326,0.25979826,0.2564439,0.20716436,0.32882875,0.30971012,0.34290814,0.46791542,0.30251718,0.24362583,0.24672516,0.27192444,0.3254513,0.29342586,0.46479452,0.1983995,0.5069394,0.22219788,0.268012,0.2723188,0.33229414,0.40265366,0.3474372,0.23595226,0.31503025,0.3347057,0.31274176,0.3778907,0.34230897,0.3252384,0.33098233,0.340116,0.18060517,0.25869718,0.23965868,0.37560657,0.3338542,0.41763058,0.26199505,0.22763106,0.3957308,0.42885685,0.35175323,0.2471166,0.29456505,0.34702778,0.33597788,0.4222684,0.22960432,0.39740777,0.41907698,0.30946332,0.28267998,0.41134483,0.37707764,0.33236855,0.2583567,0.55769455,0.3552608,0.32000706,0.3949638,0.2878956,0.34969902,0.42390585,0.2905252,0.2443601,0.36383277,0.3050958,0.28934637,0.1989741,0.26049212,0.25169066,0.3245935,0.290963,0.27534956,0.34548464,0.23727532,0.166243,0.3251707,0.23579073,0.40857458,0.44211262,0.34497488,0.47299904,0.3707853,0.5564058,0.4117684,0.35499975,0.39439937,0.16526254,0.42537975,0.3448614,0.34730697,0.2230161],\"hovertemplate\":\"bcell=%{a}<br>epi=%{b}<br>fib=%{c}<extra></extra>\",\"legendgroup\":\"\",\"marker\":{\"color\":\"#636efa\",\"symbol\":\"circle\"},\"mode\":\"markers\",\"name\":\"\",\"showlegend\":false,\"subplot\":\"ternary\",\"type\":\"scatterternary\"}],                        {\"template\":{\"data\":{\"histogram2dcontour\":[{\"type\":\"histogram2dcontour\",\"colorbar\":{\"outlinewidth\":0,\"ticks\":\"\"},\"colorscale\":[[0.0,\"#0d0887\"],[0.1111111111111111,\"#46039f\"],[0.2222222222222222,\"#7201a8\"],[0.3333333333333333,\"#9c179e\"],[0.4444444444444444,\"#bd3786\"],[0.5555555555555556,\"#d8576b\"],[0.6666666666666666,\"#ed7953\"],[0.7777777777777778,\"#fb9f3a\"],[0.8888888888888888,\"#fdca26\"],[1.0,\"#f0f921\"]]}],\"choropleth\":[{\"type\":\"choropleth\",\"colorbar\":{\"outlinewidth\":0,\"ticks\":\"\"}}],\"histogram2d\":[{\"type\":\"histogram2d\",\"colorbar\":{\"outlinewidth\":0,\"ticks\":\"\"},\"colorscale\":[[0.0,\"#0d0887\"],[0.1111111111111111,\"#46039f\"],[0.2222222222222222,\"#7201a8\"],[0.3333333333333333,\"#9c179e\"],[0.4444444444444444,\"#bd3786\"],[0.5555555555555556,\"#d8576b\"],[0.6666666666666666,\"#ed7953\"],[0.7777777777777778,\"#fb9f3a\"],[0.8888888888888888,\"#fdca26\"],[1.0,\"#f0f921\"]]}],\"heatmap\":[{\"type\":\"heatmap\",\"colorbar\":{\"outlinewidth\":0,\"ticks\":\"\"},\"colorscale\":[[0.0,\"#0d0887\"],[0.1111111111111111,\"#46039f\"],[0.2222222222222222,\"#7201a8\"],[0.3333333333333333,\"#9c179e\"],[0.4444444444444444,\"#bd3786\"],[0.5555555555555556,\"#d8576b\"],[0.6666666666666666,\"#ed7953\"],[0.7777777777777778,\"#fb9f3a\"],[0.8888888888888888,\"#fdca26\"],[1.0,\"#f0f921\"]]}],\"heatmapgl\":[{\"type\":\"heatmapgl\",\"colorbar\":{\"outlinewidth\":0,\"ticks\":\"\"},\"colorscale\":[[0.0,\"#0d0887\"],[0.1111111111111111,\"#46039f\"],[0.2222222222222222,\"#7201a8\"],[0.3333333333333333,\"#9c179e\"],[0.4444444444444444,\"#bd3786\"],[0.5555555555555556,\"#d8576b\"],[0.6666666666666666,\"#ed7953\"],[0.7777777777777778,\"#fb9f3a\"],[0.8888888888888888,\"#fdca26\"],[1.0,\"#f0f921\"]]}],\"contourcarpet\":[{\"type\":\"contourcarpet\",\"colorbar\":{\"outlinewidth\":0,\"ticks\":\"\"}}],\"contour\":[{\"type\":\"contour\",\"colorbar\":{\"outlinewidth\":0,\"ticks\":\"\"},\"colorscale\":[[0.0,\"#0d0887\"],[0.1111111111111111,\"#46039f\"],[0.2222222222222222,\"#7201a8\"],[0.3333333333333333,\"#9c179e\"],[0.4444444444444444,\"#bd3786\"],[0.5555555555555556,\"#d8576b\"],[0.6666666666666666,\"#ed7953\"],[0.7777777777777778,\"#fb9f3a\"],[0.8888888888888888,\"#fdca26\"],[1.0,\"#f0f921\"]]}],\"surface\":[{\"type\":\"surface\",\"colorbar\":{\"outlinewidth\":0,\"ticks\":\"\"},\"colorscale\":[[0.0,\"#0d0887\"],[0.1111111111111111,\"#46039f\"],[0.2222222222222222,\"#7201a8\"],[0.3333333333333333,\"#9c179e\"],[0.4444444444444444,\"#bd3786\"],[0.5555555555555556,\"#d8576b\"],[0.6666666666666666,\"#ed7953\"],[0.7777777777777778,\"#fb9f3a\"],[0.8888888888888888,\"#fdca26\"],[1.0,\"#f0f921\"]]}],\"mesh3d\":[{\"type\":\"mesh3d\",\"colorbar\":{\"outlinewidth\":0,\"ticks\":\"\"}}],\"scatter\":[{\"fillpattern\":{\"fillmode\":\"overlay\",\"size\":10,\"solidity\":0.2},\"type\":\"scatter\"}],\"parcoords\":[{\"type\":\"parcoords\",\"line\":{\"colorbar\":{\"outlinewidth\":0,\"ticks\":\"\"}}}],\"scatterpolargl\":[{\"type\":\"scatterpolargl\",\"marker\":{\"colorbar\":{\"outlinewidth\":0,\"ticks\":\"\"}}}],\"bar\":[{\"error_x\":{\"color\":\"#2a3f5f\"},\"error_y\":{\"color\":\"#2a3f5f\"},\"marker\":{\"line\":{\"color\":\"#E5ECF6\",\"width\":0.5},\"pattern\":{\"fillmode\":\"overlay\",\"size\":10,\"solidity\":0.2}},\"type\":\"bar\"}],\"scattergeo\":[{\"type\":\"scattergeo\",\"marker\":{\"colorbar\":{\"outlinewidth\":0,\"ticks\":\"\"}}}],\"scatterpolar\":[{\"type\":\"scatterpolar\",\"marker\":{\"colorbar\":{\"outlinewidth\":0,\"ticks\":\"\"}}}],\"histogram\":[{\"marker\":{\"pattern\":{\"fillmode\":\"overlay\",\"size\":10,\"solidity\":0.2}},\"type\":\"histogram\"}],\"scattergl\":[{\"type\":\"scattergl\",\"marker\":{\"colorbar\":{\"outlinewidth\":0,\"ticks\":\"\"}}}],\"scatter3d\":[{\"type\":\"scatter3d\",\"line\":{\"colorbar\":{\"outlinewidth\":0,\"ticks\":\"\"}},\"marker\":{\"colorbar\":{\"outlinewidth\":0,\"ticks\":\"\"}}}],\"scattermapbox\":[{\"type\":\"scattermapbox\",\"marker\":{\"colorbar\":{\"outlinewidth\":0,\"ticks\":\"\"}}}],\"scatterternary\":[{\"type\":\"scatterternary\",\"marker\":{\"colorbar\":{\"outlinewidth\":0,\"ticks\":\"\"}}}],\"scattercarpet\":[{\"type\":\"scattercarpet\",\"marker\":{\"colorbar\":{\"outlinewidth\":0,\"ticks\":\"\"}}}],\"carpet\":[{\"aaxis\":{\"endlinecolor\":\"#2a3f5f\",\"gridcolor\":\"white\",\"linecolor\":\"white\",\"minorgridcolor\":\"white\",\"startlinecolor\":\"#2a3f5f\"},\"baxis\":{\"endlinecolor\":\"#2a3f5f\",\"gridcolor\":\"white\",\"linecolor\":\"white\",\"minorgridcolor\":\"white\",\"startlinecolor\":\"#2a3f5f\"},\"type\":\"carpet\"}],\"table\":[{\"cells\":{\"fill\":{\"color\":\"#EBF0F8\"},\"line\":{\"color\":\"white\"}},\"header\":{\"fill\":{\"color\":\"#C8D4E3\"},\"line\":{\"color\":\"white\"}},\"type\":\"table\"}],\"barpolar\":[{\"marker\":{\"line\":{\"color\":\"#E5ECF6\",\"width\":0.5},\"pattern\":{\"fillmode\":\"overlay\",\"size\":10,\"solidity\":0.2}},\"type\":\"barpolar\"}],\"pie\":[{\"automargin\":true,\"type\":\"pie\"}]},\"layout\":{\"autotypenumbers\":\"strict\",\"colorway\":[\"#636efa\",\"#EF553B\",\"#00cc96\",\"#ab63fa\",\"#FFA15A\",\"#19d3f3\",\"#FF6692\",\"#B6E880\",\"#FF97FF\",\"#FECB52\"],\"font\":{\"color\":\"#2a3f5f\"},\"hovermode\":\"closest\",\"hoverlabel\":{\"align\":\"left\"},\"paper_bgcolor\":\"white\",\"plot_bgcolor\":\"#E5ECF6\",\"polar\":{\"bgcolor\":\"#E5ECF6\",\"angularaxis\":{\"gridcolor\":\"white\",\"linecolor\":\"white\",\"ticks\":\"\"},\"radialaxis\":{\"gridcolor\":\"white\",\"linecolor\":\"white\",\"ticks\":\"\"}},\"ternary\":{\"bgcolor\":\"#E5ECF6\",\"aaxis\":{\"gridcolor\":\"white\",\"linecolor\":\"white\",\"ticks\":\"\"},\"baxis\":{\"gridcolor\":\"white\",\"linecolor\":\"white\",\"ticks\":\"\"},\"caxis\":{\"gridcolor\":\"white\",\"linecolor\":\"white\",\"ticks\":\"\"}},\"coloraxis\":{\"colorbar\":{\"outlinewidth\":0,\"ticks\":\"\"}},\"colorscale\":{\"sequential\":[[0.0,\"#0d0887\"],[0.1111111111111111,\"#46039f\"],[0.2222222222222222,\"#7201a8\"],[0.3333333333333333,\"#9c179e\"],[0.4444444444444444,\"#bd3786\"],[0.5555555555555556,\"#d8576b\"],[0.6666666666666666,\"#ed7953\"],[0.7777777777777778,\"#fb9f3a\"],[0.8888888888888888,\"#fdca26\"],[1.0,\"#f0f921\"]],\"sequentialminus\":[[0.0,\"#0d0887\"],[0.1111111111111111,\"#46039f\"],[0.2222222222222222,\"#7201a8\"],[0.3333333333333333,\"#9c179e\"],[0.4444444444444444,\"#bd3786\"],[0.5555555555555556,\"#d8576b\"],[0.6666666666666666,\"#ed7953\"],[0.7777777777777778,\"#fb9f3a\"],[0.8888888888888888,\"#fdca26\"],[1.0,\"#f0f921\"]],\"diverging\":[[0,\"#8e0152\"],[0.1,\"#c51b7d\"],[0.2,\"#de77ae\"],[0.3,\"#f1b6da\"],[0.4,\"#fde0ef\"],[0.5,\"#f7f7f7\"],[0.6,\"#e6f5d0\"],[0.7,\"#b8e186\"],[0.8,\"#7fbc41\"],[0.9,\"#4d9221\"],[1,\"#276419\"]]},\"xaxis\":{\"gridcolor\":\"white\",\"linecolor\":\"white\",\"ticks\":\"\",\"title\":{\"standoff\":15},\"zerolinecolor\":\"white\",\"automargin\":true,\"zerolinewidth\":2},\"yaxis\":{\"gridcolor\":\"white\",\"linecolor\":\"white\",\"ticks\":\"\",\"title\":{\"standoff\":15},\"zerolinecolor\":\"white\",\"automargin\":true,\"zerolinewidth\":2},\"scene\":{\"xaxis\":{\"backgroundcolor\":\"#E5ECF6\",\"gridcolor\":\"white\",\"linecolor\":\"white\",\"showbackground\":true,\"ticks\":\"\",\"zerolinecolor\":\"white\",\"gridwidth\":2},\"yaxis\":{\"backgroundcolor\":\"#E5ECF6\",\"gridcolor\":\"white\",\"linecolor\":\"white\",\"showbackground\":true,\"ticks\":\"\",\"zerolinecolor\":\"white\",\"gridwidth\":2},\"zaxis\":{\"backgroundcolor\":\"#E5ECF6\",\"gridcolor\":\"white\",\"linecolor\":\"white\",\"showbackground\":true,\"ticks\":\"\",\"zerolinecolor\":\"white\",\"gridwidth\":2}},\"shapedefaults\":{\"line\":{\"color\":\"#2a3f5f\"}},\"annotationdefaults\":{\"arrowcolor\":\"#2a3f5f\",\"arrowhead\":0,\"arrowwidth\":1},\"geo\":{\"bgcolor\":\"white\",\"landcolor\":\"#E5ECF6\",\"subunitcolor\":\"white\",\"showland\":true,\"showlakes\":true,\"lakecolor\":\"white\"},\"title\":{\"x\":0.05},\"mapbox\":{\"style\":\"light\"}}},\"ternary\":{\"domain\":{\"x\":[0.0,1.0],\"y\":[0.0,1.0]},\"aaxis\":{\"title\":{\"text\":\"bcell\"}},\"baxis\":{\"title\":{\"text\":\"epi\"}},\"caxis\":{\"title\":{\"text\":\"fib\"}}},\"legend\":{\"tracegroupgap\":0},\"margin\":{\"t\":60}},                        {\"responsive\": true}                    ).then(function(){\n",
       "                            \n",
       "var gd = document.getElementById('fd1f5f32-d579-4e83-9ea6-3e4ab27d1af5');\n",
       "var x = new MutationObserver(function (mutations, observer) {{\n",
       "        var display = window.getComputedStyle(gd).display;\n",
       "        if (!display || display === 'none') {{\n",
       "            console.log([gd, 'removed!']);\n",
       "            Plotly.purge(gd);\n",
       "            observer.disconnect();\n",
       "        }}\n",
       "}});\n",
       "\n",
       "// Listen for the removal of the full notebook cells\n",
       "var notebookContainer = gd.closest('#notebook-container');\n",
       "if (notebookContainer) {{\n",
       "    x.observe(notebookContainer, {childList: true});\n",
       "}}\n",
       "\n",
       "// Listen for the clearing of the current output cell\n",
       "var outputEl = gd.closest('.output');\n",
       "if (outputEl) {{\n",
       "    x.observe(outputEl, {childList: true});\n",
       "}}\n",
       "\n",
       "                        })                };                });            </script>        </div>"
      ]
     },
     "metadata": {},
     "output_type": "display_data"
    },
    {
     "data": {
      "application/vnd.plotly.v1+json": {
       "config": {
        "plotlyServerURL": "https://plot.ly"
       },
       "data": [
        {
         "a": [
          0.402869664085462,
          0.268800811525976,
          0.226648301664978,
          0.162980907312259,
          0.416367701895649,
          0.304692064208067,
          0.311294529031791,
          0.393020230749767,
          0.368727743762841,
          0.316802260372929,
          0.350454960444816,
          0.266540882673227,
          0.219728237514681,
          0.273678218138959,
          0.29152047531882,
          0.577784486279282,
          0.389955070098869,
          0.35581231176807,
          0.404187166899021,
          0.37068779326713,
          0.248436070178624,
          0.254075337104067,
          0.18431492641508,
          0.401648804034879,
          0.335002820720993,
          0.28202882708474,
          0.295542700452353,
          0.257113266508515,
          0.306463932494421,
          0.345598049489465,
          0.346866390334752,
          0.377095150037249,
          0.269071606544739,
          0.314659339557461,
          0.370724788540066,
          0.265984752683261,
          0.297709837746352,
          0.377109119319643,
          0.517981787829819,
          0.329344357434824,
          0.467932082043897,
          0.279192568703458,
          0.360518449412197,
          0.308787170552103,
          0.257945077704681,
          0.231037888809407,
          0.283098212871216,
          0.300696818668859,
          0.317740815967853,
          0.43221568382174,
          0.425830978576151,
          0.296097236519084,
          0.329267781517237,
          0.206306598653441,
          0.41875987681149,
          0.274951775379116,
          0.294758455223993,
          0.493449828670716,
          0.259301880461197,
          0.34320469517683,
          0.289404603137299,
          0.248808625843727,
          0.347063869560915,
          0.187643657921158,
          0.383054884934528,
          0.226406761630704,
          0.233280907610014,
          0.13542874742124,
          0.379411548604247,
          0.184641013572642,
          0.368702577562381,
          0.279750421377623,
          0.346592006491885,
          0.376735213843664,
          0.470265685973798,
          0.439574113267935,
          0.336788408867691,
          0.512287829111891,
          0.351129762647294,
          0.283880830865872,
          0.484966707212371,
          0.419700450928668,
          0.402687712266056,
          0.483499729792183,
          0.33140089010021,
          0.280647422740733,
          0.159902844703709,
          0.370726950258879,
          0.294374606822729,
          0.158437077720676,
          0.358375395781781,
          0.260272581697422,
          0.244794484637524,
          0.27772977112176,
          0.301691898549474,
          0.335539317298264,
          0.118332033747357,
          0.23800097757774,
          0.336346519629115,
          0.398943109543457
         ],
         "b": [
          0.282163088164634,
          0.519968283967346,
          0.387180009785218,
          0.389823278005094,
          0.388134133913542,
          0.410776500868667,
          0.265340659345962,
          0.327780602587118,
          0.363163673533219,
          0.475101003370682,
          0.296364026669064,
          0.407407732024419,
          0.432847630154339,
          0.239993536584797,
          0.406839219834374,
          0.150011928314317,
          0.36345995589125,
          0.355755229887696,
          0.240185725604525,
          0.335876339053015,
          0.270385448576197,
          0.542752342761324,
          0.283775081621772,
          0.408916385146788,
          0.3549688056059,
          0.438141757005956,
          0.360488596174843,
          0.326295503335819,
          0.306677622509739,
          0.404070103588915,
          0.327525507260786,
          0.298336985286442,
          0.400081548989097,
          0.287819204380472,
          0.278115127652747,
          0.38592577146589,
          0.345313657251158,
          0.273317929623665,
          0.329001480660679,
          0.388694999830927,
          0.274080577082808,
          0.327826139833324,
          0.278586910876748,
          0.269963487866456,
          0.462588606342261,
          0.550615219904381,
          0.293318888450501,
          0.251935548502756,
          0.343136728311678,
          0.311192436831619,
          0.268992344309093,
          0.339501620487476,
          0.318906558875923,
          0.343975544719443,
          0.352444144948654,
          0.318629258685229,
          0.282734868105767,
          0.198766175815159,
          0.43752330650321,
          0.239739328668047,
          0.345615442150974,
          0.398366632887253,
          0.408128863226744,
          0.253006147861698,
          0.260570126462346,
          0.452353852140272,
          0.355623375998947,
          0.589478939081017,
          0.247747421210111,
          0.379091659434114,
          0.319261844488544,
          0.464090930971069,
          0.277010597603175,
          0.287551623989608,
          0.225153019167193,
          0.379797491725306,
          0.361000649572335,
          0.211923994686774,
          0.327494239475582,
          0.397557725607133,
          0.225908678544555,
          0.216983857963024,
          0.366285332007274,
          0.368336517032633,
          0.315402438033327,
          0.463268912663547,
          0.414289596491414,
          0.173257091238395,
          0.358513558152002,
          0.373303172686586,
          0.244702148366209,
          0.180395259042023,
          0.321215376793444,
          0.343110813485412,
          0.305852284860103,
          0.519377595430683,
          0.44636469546799,
          0.414962445234295,
          0.299063961188716,
          0.34957938197725
         ],
         "c": [
          0.314967247749903,
          0.211230904506678,
          0.386171688549805,
          0.447195814682647,
          0.195498164190809,
          0.284531434923266,
          0.423364811622247,
          0.279199166663114,
          0.268108582703941,
          0.208096736256389,
          0.35318101288612,
          0.326051385302354,
          0.34742413233098,
          0.486328245276244,
          0.301640304846806,
          0.272203585406401,
          0.246584974009881,
          0.288432458344233,
          0.355627107496454,
          0.293435867679855,
          0.481178481245179,
          0.203172320134609,
          0.531909991963148,
          0.189434810818333,
          0.310028373673107,
          0.279829415909304,
          0.343968703372804,
          0.416591230155667,
          0.38685844499584,
          0.25033184692162,
          0.325608102404462,
          0.324567864676309,
          0.330846844466163,
          0.397521456062066,
          0.351160083807186,
          0.348089475850849,
          0.35697650500249,
          0.349572951056692,
          0.153016731509501,
          0.281960642734249,
          0.257987340873295,
          0.392981291463218,
          0.360894639711055,
          0.421249341581442,
          0.279466315953058,
          0.218346891286212,
          0.423582898678283,
          0.447367632828385,
          0.339122455720469,
          0.256591879346641,
          0.305176677114755,
          0.36440114299344,
          0.351825659606839,
          0.449717856627116,
          0.228795978239856,
          0.406418965935656,
          0.42250667667024,
          0.307783995514125,
          0.303174813035594,
          0.417055976155123,
          0.364979954711727,
          0.35282474126902,
          0.244807267212342,
          0.559350194217144,
          0.356374988603127,
          0.321239386229024,
          0.411095716391039,
          0.275092313497743,
          0.372841030185641,
          0.436267326993245,
          0.312035577949075,
          0.256158647651308,
          0.376397395904941,
          0.335713162166729,
          0.304581294859008,
          0.180628395006758,
          0.302210941559974,
          0.275788176201335,
          0.321375997877124,
          0.318561443526995,
          0.289124614243074,
          0.363315691108308,
          0.23102695572667,
          0.148163753175184,
          0.353196671866463,
          0.256083664595719,
          0.425807558804876,
          0.456015958502726,
          0.347111835025268,
          0.468259749592739,
          0.39692245585201,
          0.559332159260555,
          0.433990138569032,
          0.379159415392828,
          0.392455816590424,
          0.145083087271053,
          0.435303270784653,
          0.347036577187965,
          0.364589519182169,
          0.251477508479293
         ],
         "hovertemplate": "bcell=%{a}<br>epi=%{b}<br>fib=%{c}<extra></extra>",
         "legendgroup": "",
         "marker": {
          "color": "#636efa",
          "symbol": "circle"
         },
         "mode": "markers",
         "name": "",
         "showlegend": false,
         "subplot": "ternary",
         "type": "scatterternary"
        }
       ],
       "layout": {
        "legend": {
         "tracegroupgap": 0
        },
        "margin": {
         "t": 60
        },
        "template": {
         "data": {
          "bar": [
           {
            "error_x": {
             "color": "#2a3f5f"
            },
            "error_y": {
             "color": "#2a3f5f"
            },
            "marker": {
             "line": {
              "color": "#E5ECF6",
              "width": 0.5
             },
             "pattern": {
              "fillmode": "overlay",
              "size": 10,
              "solidity": 0.2
             }
            },
            "type": "bar"
           }
          ],
          "barpolar": [
           {
            "marker": {
             "line": {
              "color": "#E5ECF6",
              "width": 0.5
             },
             "pattern": {
              "fillmode": "overlay",
              "size": 10,
              "solidity": 0.2
             }
            },
            "type": "barpolar"
           }
          ],
          "carpet": [
           {
            "aaxis": {
             "endlinecolor": "#2a3f5f",
             "gridcolor": "white",
             "linecolor": "white",
             "minorgridcolor": "white",
             "startlinecolor": "#2a3f5f"
            },
            "baxis": {
             "endlinecolor": "#2a3f5f",
             "gridcolor": "white",
             "linecolor": "white",
             "minorgridcolor": "white",
             "startlinecolor": "#2a3f5f"
            },
            "type": "carpet"
           }
          ],
          "choropleth": [
           {
            "colorbar": {
             "outlinewidth": 0,
             "ticks": ""
            },
            "type": "choropleth"
           }
          ],
          "contour": [
           {
            "colorbar": {
             "outlinewidth": 0,
             "ticks": ""
            },
            "colorscale": [
             [
              0,
              "#0d0887"
             ],
             [
              0.1111111111111111,
              "#46039f"
             ],
             [
              0.2222222222222222,
              "#7201a8"
             ],
             [
              0.3333333333333333,
              "#9c179e"
             ],
             [
              0.4444444444444444,
              "#bd3786"
             ],
             [
              0.5555555555555556,
              "#d8576b"
             ],
             [
              0.6666666666666666,
              "#ed7953"
             ],
             [
              0.7777777777777778,
              "#fb9f3a"
             ],
             [
              0.8888888888888888,
              "#fdca26"
             ],
             [
              1,
              "#f0f921"
             ]
            ],
            "type": "contour"
           }
          ],
          "contourcarpet": [
           {
            "colorbar": {
             "outlinewidth": 0,
             "ticks": ""
            },
            "type": "contourcarpet"
           }
          ],
          "heatmap": [
           {
            "colorbar": {
             "outlinewidth": 0,
             "ticks": ""
            },
            "colorscale": [
             [
              0,
              "#0d0887"
             ],
             [
              0.1111111111111111,
              "#46039f"
             ],
             [
              0.2222222222222222,
              "#7201a8"
             ],
             [
              0.3333333333333333,
              "#9c179e"
             ],
             [
              0.4444444444444444,
              "#bd3786"
             ],
             [
              0.5555555555555556,
              "#d8576b"
             ],
             [
              0.6666666666666666,
              "#ed7953"
             ],
             [
              0.7777777777777778,
              "#fb9f3a"
             ],
             [
              0.8888888888888888,
              "#fdca26"
             ],
             [
              1,
              "#f0f921"
             ]
            ],
            "type": "heatmap"
           }
          ],
          "heatmapgl": [
           {
            "colorbar": {
             "outlinewidth": 0,
             "ticks": ""
            },
            "colorscale": [
             [
              0,
              "#0d0887"
             ],
             [
              0.1111111111111111,
              "#46039f"
             ],
             [
              0.2222222222222222,
              "#7201a8"
             ],
             [
              0.3333333333333333,
              "#9c179e"
             ],
             [
              0.4444444444444444,
              "#bd3786"
             ],
             [
              0.5555555555555556,
              "#d8576b"
             ],
             [
              0.6666666666666666,
              "#ed7953"
             ],
             [
              0.7777777777777778,
              "#fb9f3a"
             ],
             [
              0.8888888888888888,
              "#fdca26"
             ],
             [
              1,
              "#f0f921"
             ]
            ],
            "type": "heatmapgl"
           }
          ],
          "histogram": [
           {
            "marker": {
             "pattern": {
              "fillmode": "overlay",
              "size": 10,
              "solidity": 0.2
             }
            },
            "type": "histogram"
           }
          ],
          "histogram2d": [
           {
            "colorbar": {
             "outlinewidth": 0,
             "ticks": ""
            },
            "colorscale": [
             [
              0,
              "#0d0887"
             ],
             [
              0.1111111111111111,
              "#46039f"
             ],
             [
              0.2222222222222222,
              "#7201a8"
             ],
             [
              0.3333333333333333,
              "#9c179e"
             ],
             [
              0.4444444444444444,
              "#bd3786"
             ],
             [
              0.5555555555555556,
              "#d8576b"
             ],
             [
              0.6666666666666666,
              "#ed7953"
             ],
             [
              0.7777777777777778,
              "#fb9f3a"
             ],
             [
              0.8888888888888888,
              "#fdca26"
             ],
             [
              1,
              "#f0f921"
             ]
            ],
            "type": "histogram2d"
           }
          ],
          "histogram2dcontour": [
           {
            "colorbar": {
             "outlinewidth": 0,
             "ticks": ""
            },
            "colorscale": [
             [
              0,
              "#0d0887"
             ],
             [
              0.1111111111111111,
              "#46039f"
             ],
             [
              0.2222222222222222,
              "#7201a8"
             ],
             [
              0.3333333333333333,
              "#9c179e"
             ],
             [
              0.4444444444444444,
              "#bd3786"
             ],
             [
              0.5555555555555556,
              "#d8576b"
             ],
             [
              0.6666666666666666,
              "#ed7953"
             ],
             [
              0.7777777777777778,
              "#fb9f3a"
             ],
             [
              0.8888888888888888,
              "#fdca26"
             ],
             [
              1,
              "#f0f921"
             ]
            ],
            "type": "histogram2dcontour"
           }
          ],
          "mesh3d": [
           {
            "colorbar": {
             "outlinewidth": 0,
             "ticks": ""
            },
            "type": "mesh3d"
           }
          ],
          "parcoords": [
           {
            "line": {
             "colorbar": {
              "outlinewidth": 0,
              "ticks": ""
             }
            },
            "type": "parcoords"
           }
          ],
          "pie": [
           {
            "automargin": true,
            "type": "pie"
           }
          ],
          "scatter": [
           {
            "fillpattern": {
             "fillmode": "overlay",
             "size": 10,
             "solidity": 0.2
            },
            "type": "scatter"
           }
          ],
          "scatter3d": [
           {
            "line": {
             "colorbar": {
              "outlinewidth": 0,
              "ticks": ""
             }
            },
            "marker": {
             "colorbar": {
              "outlinewidth": 0,
              "ticks": ""
             }
            },
            "type": "scatter3d"
           }
          ],
          "scattercarpet": [
           {
            "marker": {
             "colorbar": {
              "outlinewidth": 0,
              "ticks": ""
             }
            },
            "type": "scattercarpet"
           }
          ],
          "scattergeo": [
           {
            "marker": {
             "colorbar": {
              "outlinewidth": 0,
              "ticks": ""
             }
            },
            "type": "scattergeo"
           }
          ],
          "scattergl": [
           {
            "marker": {
             "colorbar": {
              "outlinewidth": 0,
              "ticks": ""
             }
            },
            "type": "scattergl"
           }
          ],
          "scattermapbox": [
           {
            "marker": {
             "colorbar": {
              "outlinewidth": 0,
              "ticks": ""
             }
            },
            "type": "scattermapbox"
           }
          ],
          "scatterpolar": [
           {
            "marker": {
             "colorbar": {
              "outlinewidth": 0,
              "ticks": ""
             }
            },
            "type": "scatterpolar"
           }
          ],
          "scatterpolargl": [
           {
            "marker": {
             "colorbar": {
              "outlinewidth": 0,
              "ticks": ""
             }
            },
            "type": "scatterpolargl"
           }
          ],
          "scatterternary": [
           {
            "marker": {
             "colorbar": {
              "outlinewidth": 0,
              "ticks": ""
             }
            },
            "type": "scatterternary"
           }
          ],
          "surface": [
           {
            "colorbar": {
             "outlinewidth": 0,
             "ticks": ""
            },
            "colorscale": [
             [
              0,
              "#0d0887"
             ],
             [
              0.1111111111111111,
              "#46039f"
             ],
             [
              0.2222222222222222,
              "#7201a8"
             ],
             [
              0.3333333333333333,
              "#9c179e"
             ],
             [
              0.4444444444444444,
              "#bd3786"
             ],
             [
              0.5555555555555556,
              "#d8576b"
             ],
             [
              0.6666666666666666,
              "#ed7953"
             ],
             [
              0.7777777777777778,
              "#fb9f3a"
             ],
             [
              0.8888888888888888,
              "#fdca26"
             ],
             [
              1,
              "#f0f921"
             ]
            ],
            "type": "surface"
           }
          ],
          "table": [
           {
            "cells": {
             "fill": {
              "color": "#EBF0F8"
             },
             "line": {
              "color": "white"
             }
            },
            "header": {
             "fill": {
              "color": "#C8D4E3"
             },
             "line": {
              "color": "white"
             }
            },
            "type": "table"
           }
          ]
         },
         "layout": {
          "annotationdefaults": {
           "arrowcolor": "#2a3f5f",
           "arrowhead": 0,
           "arrowwidth": 1
          },
          "autotypenumbers": "strict",
          "coloraxis": {
           "colorbar": {
            "outlinewidth": 0,
            "ticks": ""
           }
          },
          "colorscale": {
           "diverging": [
            [
             0,
             "#8e0152"
            ],
            [
             0.1,
             "#c51b7d"
            ],
            [
             0.2,
             "#de77ae"
            ],
            [
             0.3,
             "#f1b6da"
            ],
            [
             0.4,
             "#fde0ef"
            ],
            [
             0.5,
             "#f7f7f7"
            ],
            [
             0.6,
             "#e6f5d0"
            ],
            [
             0.7,
             "#b8e186"
            ],
            [
             0.8,
             "#7fbc41"
            ],
            [
             0.9,
             "#4d9221"
            ],
            [
             1,
             "#276419"
            ]
           ],
           "sequential": [
            [
             0,
             "#0d0887"
            ],
            [
             0.1111111111111111,
             "#46039f"
            ],
            [
             0.2222222222222222,
             "#7201a8"
            ],
            [
             0.3333333333333333,
             "#9c179e"
            ],
            [
             0.4444444444444444,
             "#bd3786"
            ],
            [
             0.5555555555555556,
             "#d8576b"
            ],
            [
             0.6666666666666666,
             "#ed7953"
            ],
            [
             0.7777777777777778,
             "#fb9f3a"
            ],
            [
             0.8888888888888888,
             "#fdca26"
            ],
            [
             1,
             "#f0f921"
            ]
           ],
           "sequentialminus": [
            [
             0,
             "#0d0887"
            ],
            [
             0.1111111111111111,
             "#46039f"
            ],
            [
             0.2222222222222222,
             "#7201a8"
            ],
            [
             0.3333333333333333,
             "#9c179e"
            ],
            [
             0.4444444444444444,
             "#bd3786"
            ],
            [
             0.5555555555555556,
             "#d8576b"
            ],
            [
             0.6666666666666666,
             "#ed7953"
            ],
            [
             0.7777777777777778,
             "#fb9f3a"
            ],
            [
             0.8888888888888888,
             "#fdca26"
            ],
            [
             1,
             "#f0f921"
            ]
           ]
          },
          "colorway": [
           "#636efa",
           "#EF553B",
           "#00cc96",
           "#ab63fa",
           "#FFA15A",
           "#19d3f3",
           "#FF6692",
           "#B6E880",
           "#FF97FF",
           "#FECB52"
          ],
          "font": {
           "color": "#2a3f5f"
          },
          "geo": {
           "bgcolor": "white",
           "lakecolor": "white",
           "landcolor": "#E5ECF6",
           "showlakes": true,
           "showland": true,
           "subunitcolor": "white"
          },
          "hoverlabel": {
           "align": "left"
          },
          "hovermode": "closest",
          "mapbox": {
           "style": "light"
          },
          "paper_bgcolor": "white",
          "plot_bgcolor": "#E5ECF6",
          "polar": {
           "angularaxis": {
            "gridcolor": "white",
            "linecolor": "white",
            "ticks": ""
           },
           "bgcolor": "#E5ECF6",
           "radialaxis": {
            "gridcolor": "white",
            "linecolor": "white",
            "ticks": ""
           }
          },
          "scene": {
           "xaxis": {
            "backgroundcolor": "#E5ECF6",
            "gridcolor": "white",
            "gridwidth": 2,
            "linecolor": "white",
            "showbackground": true,
            "ticks": "",
            "zerolinecolor": "white"
           },
           "yaxis": {
            "backgroundcolor": "#E5ECF6",
            "gridcolor": "white",
            "gridwidth": 2,
            "linecolor": "white",
            "showbackground": true,
            "ticks": "",
            "zerolinecolor": "white"
           },
           "zaxis": {
            "backgroundcolor": "#E5ECF6",
            "gridcolor": "white",
            "gridwidth": 2,
            "linecolor": "white",
            "showbackground": true,
            "ticks": "",
            "zerolinecolor": "white"
           }
          },
          "shapedefaults": {
           "line": {
            "color": "#2a3f5f"
           }
          },
          "ternary": {
           "aaxis": {
            "gridcolor": "white",
            "linecolor": "white",
            "ticks": ""
           },
           "baxis": {
            "gridcolor": "white",
            "linecolor": "white",
            "ticks": ""
           },
           "bgcolor": "#E5ECF6",
           "caxis": {
            "gridcolor": "white",
            "linecolor": "white",
            "ticks": ""
           }
          },
          "title": {
           "x": 0.05
          },
          "xaxis": {
           "automargin": true,
           "gridcolor": "white",
           "linecolor": "white",
           "ticks": "",
           "title": {
            "standoff": 15
           },
           "zerolinecolor": "white",
           "zerolinewidth": 2
          },
          "yaxis": {
           "automargin": true,
           "gridcolor": "white",
           "linecolor": "white",
           "ticks": "",
           "title": {
            "standoff": 15
           },
           "zerolinecolor": "white",
           "zerolinewidth": 2
          }
         }
        },
        "ternary": {
         "aaxis": {
          "title": {
           "text": "bcell"
          }
         },
         "baxis": {
          "title": {
           "text": "epi"
          }
         },
         "caxis": {
          "title": {
           "text": "fib"
          }
         },
         "domain": {
          "x": [
           0,
           1
          ],
          "y": [
           0,
           1
          ]
         }
        }
       }
      },
      "text/html": [
       "<div>                            <div id=\"89f6882f-2e72-403c-bef3-80842c8f2613\" class=\"plotly-graph-div\" style=\"height:525px; width:100%;\"></div>            <script type=\"text/javascript\">                require([\"plotly\"], function(Plotly) {                    window.PLOTLYENV=window.PLOTLYENV || {};                                    if (document.getElementById(\"89f6882f-2e72-403c-bef3-80842c8f2613\")) {                    Plotly.newPlot(                        \"89f6882f-2e72-403c-bef3-80842c8f2613\",                        [{\"a\":[0.402869664085462,0.268800811525976,0.226648301664978,0.162980907312259,0.416367701895649,0.304692064208067,0.311294529031791,0.393020230749767,0.368727743762841,0.316802260372929,0.350454960444816,0.266540882673227,0.219728237514681,0.273678218138959,0.29152047531882,0.577784486279282,0.389955070098869,0.35581231176807,0.404187166899021,0.37068779326713,0.248436070178624,0.254075337104067,0.18431492641508,0.401648804034879,0.335002820720993,0.28202882708474,0.295542700452353,0.257113266508515,0.306463932494421,0.345598049489465,0.346866390334752,0.377095150037249,0.269071606544739,0.314659339557461,0.370724788540066,0.265984752683261,0.297709837746352,0.377109119319643,0.517981787829819,0.329344357434824,0.467932082043897,0.279192568703458,0.360518449412197,0.308787170552103,0.257945077704681,0.231037888809407,0.283098212871216,0.300696818668859,0.317740815967853,0.43221568382174,0.425830978576151,0.296097236519084,0.329267781517237,0.206306598653441,0.41875987681149,0.274951775379116,0.294758455223993,0.493449828670716,0.259301880461197,0.34320469517683,0.289404603137299,0.248808625843727,0.347063869560915,0.187643657921158,0.383054884934528,0.226406761630704,0.233280907610014,0.13542874742124,0.379411548604247,0.184641013572642,0.368702577562381,0.279750421377623,0.346592006491885,0.376735213843664,0.470265685973798,0.439574113267935,0.336788408867691,0.512287829111891,0.351129762647294,0.283880830865872,0.484966707212371,0.419700450928668,0.402687712266056,0.483499729792183,0.33140089010021,0.280647422740733,0.159902844703709,0.370726950258879,0.294374606822729,0.158437077720676,0.358375395781781,0.260272581697422,0.244794484637524,0.27772977112176,0.301691898549474,0.335539317298264,0.118332033747357,0.23800097757774,0.336346519629115,0.398943109543457],\"b\":[0.282163088164634,0.519968283967346,0.387180009785218,0.389823278005094,0.388134133913542,0.410776500868667,0.265340659345962,0.327780602587118,0.363163673533219,0.475101003370682,0.296364026669064,0.407407732024419,0.432847630154339,0.239993536584797,0.406839219834374,0.150011928314317,0.36345995589125,0.355755229887696,0.240185725604525,0.335876339053015,0.270385448576197,0.542752342761324,0.283775081621772,0.408916385146788,0.3549688056059,0.438141757005956,0.360488596174843,0.326295503335819,0.306677622509739,0.404070103588915,0.327525507260786,0.298336985286442,0.400081548989097,0.287819204380472,0.278115127652747,0.38592577146589,0.345313657251158,0.273317929623665,0.329001480660679,0.388694999830927,0.274080577082808,0.327826139833324,0.278586910876748,0.269963487866456,0.462588606342261,0.550615219904381,0.293318888450501,0.251935548502756,0.343136728311678,0.311192436831619,0.268992344309093,0.339501620487476,0.318906558875923,0.343975544719443,0.352444144948654,0.318629258685229,0.282734868105767,0.198766175815159,0.43752330650321,0.239739328668047,0.345615442150974,0.398366632887253,0.408128863226744,0.253006147861698,0.260570126462346,0.452353852140272,0.355623375998947,0.589478939081017,0.247747421210111,0.379091659434114,0.319261844488544,0.464090930971069,0.277010597603175,0.287551623989608,0.225153019167193,0.379797491725306,0.361000649572335,0.211923994686774,0.327494239475582,0.397557725607133,0.225908678544555,0.216983857963024,0.366285332007274,0.368336517032633,0.315402438033327,0.463268912663547,0.414289596491414,0.173257091238395,0.358513558152002,0.373303172686586,0.244702148366209,0.180395259042023,0.321215376793444,0.343110813485412,0.305852284860103,0.519377595430683,0.44636469546799,0.414962445234295,0.299063961188716,0.34957938197725],\"c\":[0.314967247749903,0.211230904506678,0.386171688549805,0.447195814682647,0.195498164190809,0.284531434923266,0.423364811622247,0.279199166663114,0.268108582703941,0.208096736256389,0.35318101288612,0.326051385302354,0.34742413233098,0.486328245276244,0.301640304846806,0.272203585406401,0.246584974009881,0.288432458344233,0.355627107496454,0.293435867679855,0.481178481245179,0.203172320134609,0.531909991963148,0.189434810818333,0.310028373673107,0.279829415909304,0.343968703372804,0.416591230155667,0.38685844499584,0.25033184692162,0.325608102404462,0.324567864676309,0.330846844466163,0.397521456062066,0.351160083807186,0.348089475850849,0.35697650500249,0.349572951056692,0.153016731509501,0.281960642734249,0.257987340873295,0.392981291463218,0.360894639711055,0.421249341581442,0.279466315953058,0.218346891286212,0.423582898678283,0.447367632828385,0.339122455720469,0.256591879346641,0.305176677114755,0.36440114299344,0.351825659606839,0.449717856627116,0.228795978239856,0.406418965935656,0.42250667667024,0.307783995514125,0.303174813035594,0.417055976155123,0.364979954711727,0.35282474126902,0.244807267212342,0.559350194217144,0.356374988603127,0.321239386229024,0.411095716391039,0.275092313497743,0.372841030185641,0.436267326993245,0.312035577949075,0.256158647651308,0.376397395904941,0.335713162166729,0.304581294859008,0.180628395006758,0.302210941559974,0.275788176201335,0.321375997877124,0.318561443526995,0.289124614243074,0.363315691108308,0.23102695572667,0.148163753175184,0.353196671866463,0.256083664595719,0.425807558804876,0.456015958502726,0.347111835025268,0.468259749592739,0.39692245585201,0.559332159260555,0.433990138569032,0.379159415392828,0.392455816590424,0.145083087271053,0.435303270784653,0.347036577187965,0.364589519182169,0.251477508479293],\"hovertemplate\":\"bcell=%{a}<br>epi=%{b}<br>fib=%{c}<extra></extra>\",\"legendgroup\":\"\",\"marker\":{\"color\":\"#636efa\",\"symbol\":\"circle\"},\"mode\":\"markers\",\"name\":\"\",\"showlegend\":false,\"subplot\":\"ternary\",\"type\":\"scatterternary\"}],                        {\"template\":{\"data\":{\"histogram2dcontour\":[{\"type\":\"histogram2dcontour\",\"colorbar\":{\"outlinewidth\":0,\"ticks\":\"\"},\"colorscale\":[[0.0,\"#0d0887\"],[0.1111111111111111,\"#46039f\"],[0.2222222222222222,\"#7201a8\"],[0.3333333333333333,\"#9c179e\"],[0.4444444444444444,\"#bd3786\"],[0.5555555555555556,\"#d8576b\"],[0.6666666666666666,\"#ed7953\"],[0.7777777777777778,\"#fb9f3a\"],[0.8888888888888888,\"#fdca26\"],[1.0,\"#f0f921\"]]}],\"choropleth\":[{\"type\":\"choropleth\",\"colorbar\":{\"outlinewidth\":0,\"ticks\":\"\"}}],\"histogram2d\":[{\"type\":\"histogram2d\",\"colorbar\":{\"outlinewidth\":0,\"ticks\":\"\"},\"colorscale\":[[0.0,\"#0d0887\"],[0.1111111111111111,\"#46039f\"],[0.2222222222222222,\"#7201a8\"],[0.3333333333333333,\"#9c179e\"],[0.4444444444444444,\"#bd3786\"],[0.5555555555555556,\"#d8576b\"],[0.6666666666666666,\"#ed7953\"],[0.7777777777777778,\"#fb9f3a\"],[0.8888888888888888,\"#fdca26\"],[1.0,\"#f0f921\"]]}],\"heatmap\":[{\"type\":\"heatmap\",\"colorbar\":{\"outlinewidth\":0,\"ticks\":\"\"},\"colorscale\":[[0.0,\"#0d0887\"],[0.1111111111111111,\"#46039f\"],[0.2222222222222222,\"#7201a8\"],[0.3333333333333333,\"#9c179e\"],[0.4444444444444444,\"#bd3786\"],[0.5555555555555556,\"#d8576b\"],[0.6666666666666666,\"#ed7953\"],[0.7777777777777778,\"#fb9f3a\"],[0.8888888888888888,\"#fdca26\"],[1.0,\"#f0f921\"]]}],\"heatmapgl\":[{\"type\":\"heatmapgl\",\"colorbar\":{\"outlinewidth\":0,\"ticks\":\"\"},\"colorscale\":[[0.0,\"#0d0887\"],[0.1111111111111111,\"#46039f\"],[0.2222222222222222,\"#7201a8\"],[0.3333333333333333,\"#9c179e\"],[0.4444444444444444,\"#bd3786\"],[0.5555555555555556,\"#d8576b\"],[0.6666666666666666,\"#ed7953\"],[0.7777777777777778,\"#fb9f3a\"],[0.8888888888888888,\"#fdca26\"],[1.0,\"#f0f921\"]]}],\"contourcarpet\":[{\"type\":\"contourcarpet\",\"colorbar\":{\"outlinewidth\":0,\"ticks\":\"\"}}],\"contour\":[{\"type\":\"contour\",\"colorbar\":{\"outlinewidth\":0,\"ticks\":\"\"},\"colorscale\":[[0.0,\"#0d0887\"],[0.1111111111111111,\"#46039f\"],[0.2222222222222222,\"#7201a8\"],[0.3333333333333333,\"#9c179e\"],[0.4444444444444444,\"#bd3786\"],[0.5555555555555556,\"#d8576b\"],[0.6666666666666666,\"#ed7953\"],[0.7777777777777778,\"#fb9f3a\"],[0.8888888888888888,\"#fdca26\"],[1.0,\"#f0f921\"]]}],\"surface\":[{\"type\":\"surface\",\"colorbar\":{\"outlinewidth\":0,\"ticks\":\"\"},\"colorscale\":[[0.0,\"#0d0887\"],[0.1111111111111111,\"#46039f\"],[0.2222222222222222,\"#7201a8\"],[0.3333333333333333,\"#9c179e\"],[0.4444444444444444,\"#bd3786\"],[0.5555555555555556,\"#d8576b\"],[0.6666666666666666,\"#ed7953\"],[0.7777777777777778,\"#fb9f3a\"],[0.8888888888888888,\"#fdca26\"],[1.0,\"#f0f921\"]]}],\"mesh3d\":[{\"type\":\"mesh3d\",\"colorbar\":{\"outlinewidth\":0,\"ticks\":\"\"}}],\"scatter\":[{\"fillpattern\":{\"fillmode\":\"overlay\",\"size\":10,\"solidity\":0.2},\"type\":\"scatter\"}],\"parcoords\":[{\"type\":\"parcoords\",\"line\":{\"colorbar\":{\"outlinewidth\":0,\"ticks\":\"\"}}}],\"scatterpolargl\":[{\"type\":\"scatterpolargl\",\"marker\":{\"colorbar\":{\"outlinewidth\":0,\"ticks\":\"\"}}}],\"bar\":[{\"error_x\":{\"color\":\"#2a3f5f\"},\"error_y\":{\"color\":\"#2a3f5f\"},\"marker\":{\"line\":{\"color\":\"#E5ECF6\",\"width\":0.5},\"pattern\":{\"fillmode\":\"overlay\",\"size\":10,\"solidity\":0.2}},\"type\":\"bar\"}],\"scattergeo\":[{\"type\":\"scattergeo\",\"marker\":{\"colorbar\":{\"outlinewidth\":0,\"ticks\":\"\"}}}],\"scatterpolar\":[{\"type\":\"scatterpolar\",\"marker\":{\"colorbar\":{\"outlinewidth\":0,\"ticks\":\"\"}}}],\"histogram\":[{\"marker\":{\"pattern\":{\"fillmode\":\"overlay\",\"size\":10,\"solidity\":0.2}},\"type\":\"histogram\"}],\"scattergl\":[{\"type\":\"scattergl\",\"marker\":{\"colorbar\":{\"outlinewidth\":0,\"ticks\":\"\"}}}],\"scatter3d\":[{\"type\":\"scatter3d\",\"line\":{\"colorbar\":{\"outlinewidth\":0,\"ticks\":\"\"}},\"marker\":{\"colorbar\":{\"outlinewidth\":0,\"ticks\":\"\"}}}],\"scattermapbox\":[{\"type\":\"scattermapbox\",\"marker\":{\"colorbar\":{\"outlinewidth\":0,\"ticks\":\"\"}}}],\"scatterternary\":[{\"type\":\"scatterternary\",\"marker\":{\"colorbar\":{\"outlinewidth\":0,\"ticks\":\"\"}}}],\"scattercarpet\":[{\"type\":\"scattercarpet\",\"marker\":{\"colorbar\":{\"outlinewidth\":0,\"ticks\":\"\"}}}],\"carpet\":[{\"aaxis\":{\"endlinecolor\":\"#2a3f5f\",\"gridcolor\":\"white\",\"linecolor\":\"white\",\"minorgridcolor\":\"white\",\"startlinecolor\":\"#2a3f5f\"},\"baxis\":{\"endlinecolor\":\"#2a3f5f\",\"gridcolor\":\"white\",\"linecolor\":\"white\",\"minorgridcolor\":\"white\",\"startlinecolor\":\"#2a3f5f\"},\"type\":\"carpet\"}],\"table\":[{\"cells\":{\"fill\":{\"color\":\"#EBF0F8\"},\"line\":{\"color\":\"white\"}},\"header\":{\"fill\":{\"color\":\"#C8D4E3\"},\"line\":{\"color\":\"white\"}},\"type\":\"table\"}],\"barpolar\":[{\"marker\":{\"line\":{\"color\":\"#E5ECF6\",\"width\":0.5},\"pattern\":{\"fillmode\":\"overlay\",\"size\":10,\"solidity\":0.2}},\"type\":\"barpolar\"}],\"pie\":[{\"automargin\":true,\"type\":\"pie\"}]},\"layout\":{\"autotypenumbers\":\"strict\",\"colorway\":[\"#636efa\",\"#EF553B\",\"#00cc96\",\"#ab63fa\",\"#FFA15A\",\"#19d3f3\",\"#FF6692\",\"#B6E880\",\"#FF97FF\",\"#FECB52\"],\"font\":{\"color\":\"#2a3f5f\"},\"hovermode\":\"closest\",\"hoverlabel\":{\"align\":\"left\"},\"paper_bgcolor\":\"white\",\"plot_bgcolor\":\"#E5ECF6\",\"polar\":{\"bgcolor\":\"#E5ECF6\",\"angularaxis\":{\"gridcolor\":\"white\",\"linecolor\":\"white\",\"ticks\":\"\"},\"radialaxis\":{\"gridcolor\":\"white\",\"linecolor\":\"white\",\"ticks\":\"\"}},\"ternary\":{\"bgcolor\":\"#E5ECF6\",\"aaxis\":{\"gridcolor\":\"white\",\"linecolor\":\"white\",\"ticks\":\"\"},\"baxis\":{\"gridcolor\":\"white\",\"linecolor\":\"white\",\"ticks\":\"\"},\"caxis\":{\"gridcolor\":\"white\",\"linecolor\":\"white\",\"ticks\":\"\"}},\"coloraxis\":{\"colorbar\":{\"outlinewidth\":0,\"ticks\":\"\"}},\"colorscale\":{\"sequential\":[[0.0,\"#0d0887\"],[0.1111111111111111,\"#46039f\"],[0.2222222222222222,\"#7201a8\"],[0.3333333333333333,\"#9c179e\"],[0.4444444444444444,\"#bd3786\"],[0.5555555555555556,\"#d8576b\"],[0.6666666666666666,\"#ed7953\"],[0.7777777777777778,\"#fb9f3a\"],[0.8888888888888888,\"#fdca26\"],[1.0,\"#f0f921\"]],\"sequentialminus\":[[0.0,\"#0d0887\"],[0.1111111111111111,\"#46039f\"],[0.2222222222222222,\"#7201a8\"],[0.3333333333333333,\"#9c179e\"],[0.4444444444444444,\"#bd3786\"],[0.5555555555555556,\"#d8576b\"],[0.6666666666666666,\"#ed7953\"],[0.7777777777777778,\"#fb9f3a\"],[0.8888888888888888,\"#fdca26\"],[1.0,\"#f0f921\"]],\"diverging\":[[0,\"#8e0152\"],[0.1,\"#c51b7d\"],[0.2,\"#de77ae\"],[0.3,\"#f1b6da\"],[0.4,\"#fde0ef\"],[0.5,\"#f7f7f7\"],[0.6,\"#e6f5d0\"],[0.7,\"#b8e186\"],[0.8,\"#7fbc41\"],[0.9,\"#4d9221\"],[1,\"#276419\"]]},\"xaxis\":{\"gridcolor\":\"white\",\"linecolor\":\"white\",\"ticks\":\"\",\"title\":{\"standoff\":15},\"zerolinecolor\":\"white\",\"automargin\":true,\"zerolinewidth\":2},\"yaxis\":{\"gridcolor\":\"white\",\"linecolor\":\"white\",\"ticks\":\"\",\"title\":{\"standoff\":15},\"zerolinecolor\":\"white\",\"automargin\":true,\"zerolinewidth\":2},\"scene\":{\"xaxis\":{\"backgroundcolor\":\"#E5ECF6\",\"gridcolor\":\"white\",\"linecolor\":\"white\",\"showbackground\":true,\"ticks\":\"\",\"zerolinecolor\":\"white\",\"gridwidth\":2},\"yaxis\":{\"backgroundcolor\":\"#E5ECF6\",\"gridcolor\":\"white\",\"linecolor\":\"white\",\"showbackground\":true,\"ticks\":\"\",\"zerolinecolor\":\"white\",\"gridwidth\":2},\"zaxis\":{\"backgroundcolor\":\"#E5ECF6\",\"gridcolor\":\"white\",\"linecolor\":\"white\",\"showbackground\":true,\"ticks\":\"\",\"zerolinecolor\":\"white\",\"gridwidth\":2}},\"shapedefaults\":{\"line\":{\"color\":\"#2a3f5f\"}},\"annotationdefaults\":{\"arrowcolor\":\"#2a3f5f\",\"arrowhead\":0,\"arrowwidth\":1},\"geo\":{\"bgcolor\":\"white\",\"landcolor\":\"#E5ECF6\",\"subunitcolor\":\"white\",\"showland\":true,\"showlakes\":true,\"lakecolor\":\"white\"},\"title\":{\"x\":0.05},\"mapbox\":{\"style\":\"light\"}}},\"ternary\":{\"domain\":{\"x\":[0.0,1.0],\"y\":[0.0,1.0]},\"aaxis\":{\"title\":{\"text\":\"bcell\"}},\"baxis\":{\"title\":{\"text\":\"epi\"}},\"caxis\":{\"title\":{\"text\":\"fib\"}}},\"legend\":{\"tracegroupgap\":0},\"margin\":{\"t\":60}},                        {\"responsive\": true}                    ).then(function(){\n",
       "                            \n",
       "var gd = document.getElementById('89f6882f-2e72-403c-bef3-80842c8f2613');\n",
       "var x = new MutationObserver(function (mutations, observer) {{\n",
       "        var display = window.getComputedStyle(gd).display;\n",
       "        if (!display || display === 'none') {{\n",
       "            console.log([gd, 'removed!']);\n",
       "            Plotly.purge(gd);\n",
       "            observer.disconnect();\n",
       "        }}\n",
       "}});\n",
       "\n",
       "// Listen for the removal of the full notebook cells\n",
       "var notebookContainer = gd.closest('#notebook-container');\n",
       "if (notebookContainer) {{\n",
       "    x.observe(notebookContainer, {childList: true});\n",
       "}}\n",
       "\n",
       "// Listen for the clearing of the current output cell\n",
       "var outputEl = gd.closest('.output');\n",
       "if (outputEl) {{\n",
       "    x.observe(outputEl, {childList: true});\n",
       "}}\n",
       "\n",
       "                        })                };                });            </script>        </div>"
      ]
     },
     "metadata": {},
     "output_type": "display_data"
    }
   ],
   "source": [
    "px.scatter_ternary(test_prop_y, a=\"bcell\", b=\"epi\", c=\"fib\").show()\n",
    "px.scatter_ternary(prop_y, a=\"bcell\", b=\"epi\", c=\"fib\").show()"
   ]
  },
  {
   "cell_type": "code",
   "execution_count": 15,
   "id": "04039c26",
   "metadata": {},
   "outputs": [
    {
     "data": {
      "image/png": "[encoded data removed]",
      "text/plain": [
       "<Figure size 640x480 with 1 Axes>"
      ]
     },
     "metadata": {},
     "output_type": "display_data"
    }
   ],
   "source": [
    "plt.plot([0,1],[0,1],\"k--\")\n",
    "plt.scatter(prop_y[\"bcell\"], test_prop_y[\"bcell\"], label=\"bcell\")\n",
    "plt.scatter(prop_y[\"epi\"], test_prop_y[\"epi\"], label=\"epi\")\n",
    "plt.scatter(prop_y[\"fib\"], test_prop_y[\"fib\"], label=\"fib\")\n",
    "\n",
    "\n",
    "plt.xlabel(\"true proportion\")\n",
    "plt.ylabel(\"predicted proportion\")\n",
    "plt.legend()\n",
    "plt.grid()"
   ]
  }
 ],
 "metadata": {
  "kernelspec": {
   "display_name": "Python 3 (ipykernel)",
   "language": "python",
   "name": "python3"
  },
  "language_info": {
   "codemirror_mode": {
    "name": "ipython",
    "version": 3
   },
   "file_extension": ".py",
   "mimetype": "text/x-python",
   "name": "python",
   "nbconvert_exporter": "python",
   "pygments_lexer": "ipython3",
   "version": "3.9.6"
  }
 },
 "nbformat": 4,
 "nbformat_minor": 5
}
